{
 "cells": [
  {
   "cell_type": "code",
   "execution_count": 1,
   "source": [
    "import requests as rq\n",
    "from bs4 import BeautifulSoup as bs"
   ],
   "outputs": [],
   "metadata": {}
  },
  {
   "cell_type": "code",
   "execution_count": 3,
   "source": [
    "response = rq.get('http://info.cern.ch/hypertext/WWW/TheProject.html')\n",
    "response.status_code"
   ],
   "outputs": [
    {
     "output_type": "execute_result",
     "data": {
      "text/plain": [
       "200"
      ]
     },
     "metadata": {},
     "execution_count": 3
    }
   ],
   "metadata": {}
  },
  {
   "cell_type": "code",
   "execution_count": 4,
   "source": [
    "response.headers"
   ],
   "outputs": [
    {
     "output_type": "execute_result",
     "data": {
      "text/plain": [
       "{'Date': 'Tue, 24 Aug 2021 23:26:29 GMT', 'Server': 'Apache', 'Last-Modified': 'Thu, 03 Dec 1992 08:37:20 GMT', 'ETag': '\"8a9-291e721905000\"', 'Accept-Ranges': 'bytes', 'Content-Length': '2217', 'Connection': 'close', 'Content-Type': 'text/html'}"
      ]
     },
     "metadata": {},
     "execution_count": 4
    }
   ],
   "metadata": {}
  },
  {
   "cell_type": "code",
   "execution_count": 5,
   "source": [
    "html_data = response.text"
   ],
   "outputs": [],
   "metadata": {}
  },
  {
   "cell_type": "code",
   "execution_count": 6,
   "source": [
    "html_data"
   ],
   "outputs": [
    {
     "output_type": "execute_result",
     "data": {
      "text/plain": [
       "'<HEADER>\\n<TITLE>The World Wide Web project</TITLE>\\n<NEXTID N=\"55\">\\n</HEADER>\\n<BODY>\\n<H1>World Wide Web</H1>The WorldWideWeb (W3) is a wide-area<A\\nNAME=0 HREF=\"WhatIs.html\">\\nhypermedia</A> information retrieval\\ninitiative aiming to give universal\\naccess to a large universe of documents.<P>\\nEverything there is online about\\nW3 is linked directly or indirectly\\nto this document, including an <A\\nNAME=24 HREF=\"Summary.html\">executive\\nsummary</A> of the project, <A\\nNAME=29 HREF=\"Administration/Mailing/Overview.html\">Mailing lists</A>\\n, <A\\nNAME=30 HREF=\"Policy.html\">Policy</A> , November\\'s  <A\\nNAME=34 HREF=\"News/9211.html\">W3  news</A> ,\\n<A\\nNAME=41 HREF=\"FAQ/List.html\">Frequently Asked Questions</A> .\\n<DL>\\n<DT><A\\nNAME=44 HREF=\"../DataSources/Top.html\">What\\'s out there?</A>\\n<DD> Pointers to the\\nworld\\'s online information,<A\\nNAME=45 HREF=\"../DataSources/bySubject/Overview.html\"> subjects</A>\\n, <A\\nNAME=z54 HREF=\"../DataSources/WWW/Servers.html\">W3 servers</A>, etc.\\n<DT><A\\nNAME=46 HREF=\"Help.html\">Help</A>\\n<DD> on the browser you are using\\n<DT><A\\nNAME=13 HREF=\"Status.html\">Software Products</A>\\n<DD> A list of W3 project\\ncomponents and their current state.\\n(e.g. <A\\nNAME=27 HREF=\"LineMode/Browser.html\">Line Mode</A> ,X11 <A\\nNAME=35 HREF=\"Status.html#35\">Viola</A> ,  <A\\nNAME=26 HREF=\"NeXT/WorldWideWeb.html\">NeXTStep</A>\\n, <A\\nNAME=25 HREF=\"Daemon/Overview.html\">Servers</A> , <A\\nNAME=51 HREF=\"Tools/Overview.html\">Tools</A> ,<A\\nNAME=53 HREF=\"MailRobot/Overview.html\"> Mail robot</A> ,<A\\nNAME=52 HREF=\"Status.html#57\">\\nLibrary</A> )\\n<DT><A\\nNAME=47 HREF=\"Technical.html\">Technical</A>\\n<DD> Details of protocols, formats,\\nprogram internals etc\\n<DT><A\\nNAME=40 HREF=\"Bibliography.html\">Bibliography</A>\\n<DD> Paper documentation\\non  W3 and references.\\n<DT><A\\nNAME=14 HREF=\"People.html\">People</A>\\n<DD> A list of some people involved\\nin the project.\\n<DT><A\\nNAME=15 HREF=\"History.html\">History</A>\\n<DD> A summary of the history\\nof the project.\\n<DT><A\\nNAME=37 HREF=\"Helping.html\">How can I help</A> ?\\n<DD> If you would like\\nto support the web..\\n<DT><A\\nNAME=48 HREF=\"../README.html\">Getting code</A>\\n<DD> Getting the code by<A\\nNAME=49 HREF=\"LineMode/Defaults/Distribution.html\">\\nanonymous FTP</A> , etc.</A>\\n</DL>\\n</BODY>\\n'"
      ]
     },
     "metadata": {},
     "execution_count": 6
    }
   ],
   "metadata": {}
  },
  {
   "cell_type": "code",
   "execution_count": 8,
   "source": [
    "data = bs(html_data, 'html.parser')\n",
    "data"
   ],
   "outputs": [
    {
     "output_type": "execute_result",
     "data": {
      "text/plain": [
       "<header>\n",
       "<title>The World Wide Web project</title>\n",
       "<nextid n=\"55\"/>\n",
       "</header>\n",
       "<body>\n",
       "<h1>World Wide Web</h1>The WorldWideWeb (W3) is a wide-area<a href=\"WhatIs.html\" name=\"0\">\n",
       "hypermedia</a> information retrieval\n",
       "initiative aiming to give universal\n",
       "access to a large universe of documents.<p>\n",
       "Everything there is online about\n",
       "W3 is linked directly or indirectly\n",
       "to this document, including an <a href=\"Summary.html\" name=\"24\">executive\n",
       "summary</a> of the project, <a href=\"Administration/Mailing/Overview.html\" name=\"29\">Mailing lists</a>\n",
       ", <a href=\"Policy.html\" name=\"30\">Policy</a> , November's  <a href=\"News/9211.html\" name=\"34\">W3  news</a> ,\n",
       "<a href=\"FAQ/List.html\" name=\"41\">Frequently Asked Questions</a> .\n",
       "<dl>\n",
       "<dt><a href=\"../DataSources/Top.html\" name=\"44\">What's out there?</a>\n",
       "<dd> Pointers to the\n",
       "world's online information,<a href=\"../DataSources/bySubject/Overview.html\" name=\"45\"> subjects</a>\n",
       ", <a href=\"../DataSources/WWW/Servers.html\" name=\"z54\">W3 servers</a>, etc.\n",
       "<dt><a href=\"Help.html\" name=\"46\">Help</a>\n",
       "<dd> on the browser you are using\n",
       "<dt><a href=\"Status.html\" name=\"13\">Software Products</a>\n",
       "<dd> A list of W3 project\n",
       "components and their current state.\n",
       "(e.g. <a href=\"LineMode/Browser.html\" name=\"27\">Line Mode</a> ,X11 <a href=\"Status.html#35\" name=\"35\">Viola</a> ,  <a href=\"NeXT/WorldWideWeb.html\" name=\"26\">NeXTStep</a>\n",
       ", <a href=\"Daemon/Overview.html\" name=\"25\">Servers</a> , <a href=\"Tools/Overview.html\" name=\"51\">Tools</a> ,<a href=\"MailRobot/Overview.html\" name=\"53\"> Mail robot</a> ,<a href=\"Status.html#57\" name=\"52\">\n",
       "Library</a> )\n",
       "<dt><a href=\"Technical.html\" name=\"47\">Technical</a>\n",
       "<dd> Details of protocols, formats,\n",
       "program internals etc\n",
       "<dt><a href=\"Bibliography.html\" name=\"40\">Bibliography</a>\n",
       "<dd> Paper documentation\n",
       "on  W3 and references.\n",
       "<dt><a href=\"People.html\" name=\"14\">People</a>\n",
       "<dd> A list of some people involved\n",
       "in the project.\n",
       "<dt><a href=\"History.html\" name=\"15\">History</a>\n",
       "<dd> A summary of the history\n",
       "of the project.\n",
       "<dt><a href=\"Helping.html\" name=\"37\">How can I help</a> ?\n",
       "<dd> If you would like\n",
       "to support the web..\n",
       "<dt><a href=\"../README.html\" name=\"48\">Getting code</a>\n",
       "<dd> Getting the code by<a href=\"LineMode/Defaults/Distribution.html\" name=\"49\">\n",
       "anonymous FTP</a> , etc.\n",
       "</dd></dt></dd></dt></dd></dt></dd></dt></dd></dt></dd></dt></dd></dt></dd></dt></dd></dt></dl>\n",
       "</p></body>"
      ]
     },
     "metadata": {},
     "execution_count": 8
    }
   ],
   "metadata": {}
  },
  {
   "cell_type": "code",
   "execution_count": 9,
   "source": [
    "data.h1.string"
   ],
   "outputs": [
    {
     "output_type": "execute_result",
     "data": {
      "text/plain": [
       "'World Wide Web'"
      ]
     },
     "metadata": {},
     "execution_count": 9
    }
   ],
   "metadata": {}
  },
  {
   "cell_type": "code",
   "execution_count": 10,
   "source": [
    "data.title.string"
   ],
   "outputs": [
    {
     "output_type": "execute_result",
     "data": {
      "text/plain": [
       "'The World Wide Web project'"
      ]
     },
     "metadata": {},
     "execution_count": 10
    }
   ],
   "metadata": {}
  },
  {
   "cell_type": "code",
   "execution_count": 11,
   "source": [
    "data.get_text # returns all text in the document"
   ],
   "outputs": [
    {
     "output_type": "execute_result",
     "data": {
      "text/plain": [
       "<bound method Tag.get_text of <header>\n",
       "<title>The World Wide Web project</title>\n",
       "<nextid n=\"55\"/>\n",
       "</header>\n",
       "<body>\n",
       "<h1>World Wide Web</h1>The WorldWideWeb (W3) is a wide-area<a href=\"WhatIs.html\" name=\"0\">\n",
       "hypermedia</a> information retrieval\n",
       "initiative aiming to give universal\n",
       "access to a large universe of documents.<p>\n",
       "Everything there is online about\n",
       "W3 is linked directly or indirectly\n",
       "to this document, including an <a href=\"Summary.html\" name=\"24\">executive\n",
       "summary</a> of the project, <a href=\"Administration/Mailing/Overview.html\" name=\"29\">Mailing lists</a>\n",
       ", <a href=\"Policy.html\" name=\"30\">Policy</a> , November's  <a href=\"News/9211.html\" name=\"34\">W3  news</a> ,\n",
       "<a href=\"FAQ/List.html\" name=\"41\">Frequently Asked Questions</a> .\n",
       "<dl>\n",
       "<dt><a href=\"../DataSources/Top.html\" name=\"44\">What's out there?</a>\n",
       "<dd> Pointers to the\n",
       "world's online information,<a href=\"../DataSources/bySubject/Overview.html\" name=\"45\"> subjects</a>\n",
       ", <a href=\"../DataSources/WWW/Servers.html\" name=\"z54\">W3 servers</a>, etc.\n",
       "<dt><a href=\"Help.html\" name=\"46\">Help</a>\n",
       "<dd> on the browser you are using\n",
       "<dt><a href=\"Status.html\" name=\"13\">Software Products</a>\n",
       "<dd> A list of W3 project\n",
       "components and their current state.\n",
       "(e.g. <a href=\"LineMode/Browser.html\" name=\"27\">Line Mode</a> ,X11 <a href=\"Status.html#35\" name=\"35\">Viola</a> ,  <a href=\"NeXT/WorldWideWeb.html\" name=\"26\">NeXTStep</a>\n",
       ", <a href=\"Daemon/Overview.html\" name=\"25\">Servers</a> , <a href=\"Tools/Overview.html\" name=\"51\">Tools</a> ,<a href=\"MailRobot/Overview.html\" name=\"53\"> Mail robot</a> ,<a href=\"Status.html#57\" name=\"52\">\n",
       "Library</a> )\n",
       "<dt><a href=\"Technical.html\" name=\"47\">Technical</a>\n",
       "<dd> Details of protocols, formats,\n",
       "program internals etc\n",
       "<dt><a href=\"Bibliography.html\" name=\"40\">Bibliography</a>\n",
       "<dd> Paper documentation\n",
       "on  W3 and references.\n",
       "<dt><a href=\"People.html\" name=\"14\">People</a>\n",
       "<dd> A list of some people involved\n",
       "in the project.\n",
       "<dt><a href=\"History.html\" name=\"15\">History</a>\n",
       "<dd> A summary of the history\n",
       "of the project.\n",
       "<dt><a href=\"Helping.html\" name=\"37\">How can I help</a> ?\n",
       "<dd> If you would like\n",
       "to support the web..\n",
       "<dt><a href=\"../README.html\" name=\"48\">Getting code</a>\n",
       "<dd> Getting the code by<a href=\"LineMode/Defaults/Distribution.html\" name=\"49\">\n",
       "anonymous FTP</a> , etc.\n",
       "</dd></dt></dd></dt></dd></dt></dd></dt></dd></dt></dd></dt></dd></dt></dd></dt></dd></dt></dl>\n",
       "</p></body>\n",
       ">"
      ]
     },
     "metadata": {},
     "execution_count": 11
    }
   ],
   "metadata": {}
  },
  {
   "cell_type": "code",
   "execution_count": 12,
   "source": [
    "data.a"
   ],
   "outputs": [
    {
     "output_type": "execute_result",
     "data": {
      "text/plain": [
       "<a href=\"WhatIs.html\" name=\"0\">\n",
       "hypermedia</a>"
      ]
     },
     "metadata": {},
     "execution_count": 12
    }
   ],
   "metadata": {}
  },
  {
   "cell_type": "code",
   "execution_count": 13,
   "source": [
    "data.a['href'] # returns the href attribute of the anchor tag"
   ],
   "outputs": [
    {
     "output_type": "execute_result",
     "data": {
      "text/plain": [
       "'WhatIs.html'"
      ]
     },
     "metadata": {},
     "execution_count": 13
    }
   ],
   "metadata": {}
  },
  {
   "cell_type": "code",
   "execution_count": 15,
   "source": [
    "li = data.find_all('a') # returns all <a> tags\n",
    "li"
   ],
   "outputs": [
    {
     "output_type": "execute_result",
     "data": {
      "text/plain": [
       "[<a href=\"WhatIs.html\" name=\"0\">\n",
       " hypermedia</a>, <a href=\"Summary.html\" name=\"24\">executive\n",
       " summary</a>, <a href=\"Administration/Mailing/Overview.html\" name=\"29\">Mailing lists</a>, <a href=\"Policy.html\" name=\"30\">Policy</a>, <a href=\"News/9211.html\" name=\"34\">W3  news</a>, <a href=\"FAQ/List.html\" name=\"41\">Frequently Asked Questions</a>, <a href=\"../DataSources/Top.html\" name=\"44\">What's out there?</a>, <a href=\"../DataSources/bySubject/Overview.html\" name=\"45\"> subjects</a>, <a href=\"../DataSources/WWW/Servers.html\" name=\"z54\">W3 servers</a>, <a href=\"Help.html\" name=\"46\">Help</a>, <a href=\"Status.html\" name=\"13\">Software Products</a>, <a href=\"LineMode/Browser.html\" name=\"27\">Line Mode</a>, <a href=\"Status.html#35\" name=\"35\">Viola</a>, <a href=\"NeXT/WorldWideWeb.html\" name=\"26\">NeXTStep</a>, <a href=\"Daemon/Overview.html\" name=\"25\">Servers</a>, <a href=\"Tools/Overview.html\" name=\"51\">Tools</a>, <a href=\"MailRobot/Overview.html\" name=\"53\"> Mail robot</a>, <a href=\"Status.html#57\" name=\"52\">\n",
       " Library</a>, <a href=\"Technical.html\" name=\"47\">Technical</a>, <a href=\"Bibliography.html\" name=\"40\">Bibliography</a>, <a href=\"People.html\" name=\"14\">People</a>, <a href=\"History.html\" name=\"15\">History</a>, <a href=\"Helping.html\" name=\"37\">How can I help</a>, <a href=\"../README.html\" name=\"48\">Getting code</a>, <a href=\"LineMode/Defaults/Distribution.html\" name=\"49\">\n",
       " anonymous FTP</a>]"
      ]
     },
     "metadata": {},
     "execution_count": 15
    }
   ],
   "metadata": {}
  },
  {
   "cell_type": "code",
   "execution_count": 16,
   "source": [
    "len(li)  # number of links"
   ],
   "outputs": [
    {
     "output_type": "execute_result",
     "data": {
      "text/plain": [
       "25"
      ]
     },
     "metadata": {},
     "execution_count": 16
    }
   ],
   "metadata": {}
  },
  {
   "cell_type": "code",
   "execution_count": 17,
   "source": [
    "data.dl # returns all <dl> tags"
   ],
   "outputs": [
    {
     "output_type": "execute_result",
     "data": {
      "text/plain": [
       "<dl>\n",
       "<dt><a href=\"../DataSources/Top.html\" name=\"44\">What's out there?</a>\n",
       "<dd> Pointers to the\n",
       "world's online information,<a href=\"../DataSources/bySubject/Overview.html\" name=\"45\"> subjects</a>\n",
       ", <a href=\"../DataSources/WWW/Servers.html\" name=\"z54\">W3 servers</a>, etc.\n",
       "<dt><a href=\"Help.html\" name=\"46\">Help</a>\n",
       "<dd> on the browser you are using\n",
       "<dt><a href=\"Status.html\" name=\"13\">Software Products</a>\n",
       "<dd> A list of W3 project\n",
       "components and their current state.\n",
       "(e.g. <a href=\"LineMode/Browser.html\" name=\"27\">Line Mode</a> ,X11 <a href=\"Status.html#35\" name=\"35\">Viola</a> ,  <a href=\"NeXT/WorldWideWeb.html\" name=\"26\">NeXTStep</a>\n",
       ", <a href=\"Daemon/Overview.html\" name=\"25\">Servers</a> , <a href=\"Tools/Overview.html\" name=\"51\">Tools</a> ,<a href=\"MailRobot/Overview.html\" name=\"53\"> Mail robot</a> ,<a href=\"Status.html#57\" name=\"52\">\n",
       "Library</a> )\n",
       "<dt><a href=\"Technical.html\" name=\"47\">Technical</a>\n",
       "<dd> Details of protocols, formats,\n",
       "program internals etc\n",
       "<dt><a href=\"Bibliography.html\" name=\"40\">Bibliography</a>\n",
       "<dd> Paper documentation\n",
       "on  W3 and references.\n",
       "<dt><a href=\"People.html\" name=\"14\">People</a>\n",
       "<dd> A list of some people involved\n",
       "in the project.\n",
       "<dt><a href=\"History.html\" name=\"15\">History</a>\n",
       "<dd> A summary of the history\n",
       "of the project.\n",
       "<dt><a href=\"Helping.html\" name=\"37\">How can I help</a> ?\n",
       "<dd> If you would like\n",
       "to support the web..\n",
       "<dt><a href=\"../README.html\" name=\"48\">Getting code</a>\n",
       "<dd> Getting the code by<a href=\"LineMode/Defaults/Distribution.html\" name=\"49\">\n",
       "anonymous FTP</a> , etc.\n",
       "</dd></dt></dd></dt></dd></dt></dd></dt></dd></dt></dd></dt></dd></dt></dd></dt></dd></dt></dl>"
      ]
     },
     "metadata": {},
     "execution_count": 17
    }
   ],
   "metadata": {}
  },
  {
   "cell_type": "code",
   "execution_count": 18,
   "source": [
    "data.dl.find_all('a') # returns all <a> tags within the <dl> tag"
   ],
   "outputs": [
    {
     "output_type": "execute_result",
     "data": {
      "text/plain": [
       "[<a href=\"../DataSources/Top.html\" name=\"44\">What's out there?</a>,\n",
       " <a href=\"../DataSources/bySubject/Overview.html\" name=\"45\"> subjects</a>,\n",
       " <a href=\"../DataSources/WWW/Servers.html\" name=\"z54\">W3 servers</a>,\n",
       " <a href=\"Help.html\" name=\"46\">Help</a>,\n",
       " <a href=\"Status.html\" name=\"13\">Software Products</a>,\n",
       " <a href=\"LineMode/Browser.html\" name=\"27\">Line Mode</a>,\n",
       " <a href=\"Status.html#35\" name=\"35\">Viola</a>,\n",
       " <a href=\"NeXT/WorldWideWeb.html\" name=\"26\">NeXTStep</a>,\n",
       " <a href=\"Daemon/Overview.html\" name=\"25\">Servers</a>,\n",
       " <a href=\"Tools/Overview.html\" name=\"51\">Tools</a>,\n",
       " <a href=\"MailRobot/Overview.html\" name=\"53\"> Mail robot</a>,\n",
       " <a href=\"Status.html#57\" name=\"52\">\n",
       " Library</a>,\n",
       " <a href=\"Technical.html\" name=\"47\">Technical</a>,\n",
       " <a href=\"Bibliography.html\" name=\"40\">Bibliography</a>,\n",
       " <a href=\"People.html\" name=\"14\">People</a>,\n",
       " <a href=\"History.html\" name=\"15\">History</a>,\n",
       " <a href=\"Helping.html\" name=\"37\">How can I help</a>,\n",
       " <a href=\"../README.html\" name=\"48\">Getting code</a>,\n",
       " <a href=\"LineMode/Defaults/Distribution.html\" name=\"49\">\n",
       " anonymous FTP</a>]"
      ]
     },
     "metadata": {},
     "execution_count": 18
    }
   ],
   "metadata": {}
  },
  {
   "cell_type": "code",
   "execution_count": 20,
   "source": [
    "li2 = data.dl.find_all('dt') # returns the first <dt> tag\n",
    "len(li2)"
   ],
   "outputs": [
    {
     "output_type": "execute_result",
     "data": {
      "text/plain": [
       "9"
      ]
     },
     "metadata": {},
     "execution_count": 20
    }
   ],
   "metadata": {}
  },
  {
   "cell_type": "code",
   "execution_count": 22,
   "source": [
    "for i in li2:\n",
    "    print(i.a.string)"
   ],
   "outputs": [
    {
     "output_type": "stream",
     "name": "stdout",
     "text": [
      "What's out there?\n",
      "Help\n",
      "Software Products\n",
      "Technical\n",
      "Bibliography\n",
      "People\n",
      "History\n",
      "How can I help\n",
      "Getting code\n"
     ]
    }
   ],
   "metadata": {}
  },
  {
   "cell_type": "code",
   "execution_count": 28,
   "source": [
    "li3 = data.dl.find_all('dd') # returns all <dd> tags within the <dl> tag\n",
    "print(li3)\n",
    "len(li3)"
   ],
   "outputs": [
    {
     "output_type": "stream",
     "name": "stdout",
     "text": [
      "[<dd> Pointers to the\n",
      "world's online information,<a href=\"../DataSources/bySubject/Overview.html\" name=\"45\"> subjects</a>\n",
      ", <a href=\"../DataSources/WWW/Servers.html\" name=\"z54\">W3 servers</a>, etc.\n",
      "<dt><a href=\"Help.html\" name=\"46\">Help</a>\n",
      "<dd> on the browser you are using\n",
      "<dt><a href=\"Status.html\" name=\"13\">Software Products</a>\n",
      "<dd> A list of W3 project\n",
      "components and their current state.\n",
      "(e.g. <a href=\"LineMode/Browser.html\" name=\"27\">Line Mode</a> ,X11 <a href=\"Status.html#35\" name=\"35\">Viola</a> ,  <a href=\"NeXT/WorldWideWeb.html\" name=\"26\">NeXTStep</a>\n",
      ", <a href=\"Daemon/Overview.html\" name=\"25\">Servers</a> , <a href=\"Tools/Overview.html\" name=\"51\">Tools</a> ,<a href=\"MailRobot/Overview.html\" name=\"53\"> Mail robot</a> ,<a href=\"Status.html#57\" name=\"52\">\n",
      "Library</a> )\n",
      "<dt><a href=\"Technical.html\" name=\"47\">Technical</a>\n",
      "<dd> Details of protocols, formats,\n",
      "program internals etc\n",
      "<dt><a href=\"Bibliography.html\" name=\"40\">Bibliography</a>\n",
      "<dd> Paper documentation\n",
      "on  W3 and references.\n",
      "<dt><a href=\"People.html\" name=\"14\">People</a>\n",
      "<dd> A list of some people involved\n",
      "in the project.\n",
      "<dt><a href=\"History.html\" name=\"15\">History</a>\n",
      "<dd> A summary of the history\n",
      "of the project.\n",
      "<dt><a href=\"Helping.html\" name=\"37\">How can I help</a> ?\n",
      "<dd> If you would like\n",
      "to support the web..\n",
      "<dt><a href=\"../README.html\" name=\"48\">Getting code</a>\n",
      "<dd> Getting the code by<a href=\"LineMode/Defaults/Distribution.html\" name=\"49\">\n",
      "anonymous FTP</a> , etc.\n",
      "</dd></dt></dd></dt></dd></dt></dd></dt></dd></dt></dd></dt></dd></dt></dd></dt></dd>, <dd> on the browser you are using\n",
      "<dt><a href=\"Status.html\" name=\"13\">Software Products</a>\n",
      "<dd> A list of W3 project\n",
      "components and their current state.\n",
      "(e.g. <a href=\"LineMode/Browser.html\" name=\"27\">Line Mode</a> ,X11 <a href=\"Status.html#35\" name=\"35\">Viola</a> ,  <a href=\"NeXT/WorldWideWeb.html\" name=\"26\">NeXTStep</a>\n",
      ", <a href=\"Daemon/Overview.html\" name=\"25\">Servers</a> , <a href=\"Tools/Overview.html\" name=\"51\">Tools</a> ,<a href=\"MailRobot/Overview.html\" name=\"53\"> Mail robot</a> ,<a href=\"Status.html#57\" name=\"52\">\n",
      "Library</a> )\n",
      "<dt><a href=\"Technical.html\" name=\"47\">Technical</a>\n",
      "<dd> Details of protocols, formats,\n",
      "program internals etc\n",
      "<dt><a href=\"Bibliography.html\" name=\"40\">Bibliography</a>\n",
      "<dd> Paper documentation\n",
      "on  W3 and references.\n",
      "<dt><a href=\"People.html\" name=\"14\">People</a>\n",
      "<dd> A list of some people involved\n",
      "in the project.\n",
      "<dt><a href=\"History.html\" name=\"15\">History</a>\n",
      "<dd> A summary of the history\n",
      "of the project.\n",
      "<dt><a href=\"Helping.html\" name=\"37\">How can I help</a> ?\n",
      "<dd> If you would like\n",
      "to support the web..\n",
      "<dt><a href=\"../README.html\" name=\"48\">Getting code</a>\n",
      "<dd> Getting the code by<a href=\"LineMode/Defaults/Distribution.html\" name=\"49\">\n",
      "anonymous FTP</a> , etc.\n",
      "</dd></dt></dd></dt></dd></dt></dd></dt></dd></dt></dd></dt></dd></dt></dd>, <dd> A list of W3 project\n",
      "components and their current state.\n",
      "(e.g. <a href=\"LineMode/Browser.html\" name=\"27\">Line Mode</a> ,X11 <a href=\"Status.html#35\" name=\"35\">Viola</a> ,  <a href=\"NeXT/WorldWideWeb.html\" name=\"26\">NeXTStep</a>\n",
      ", <a href=\"Daemon/Overview.html\" name=\"25\">Servers</a> , <a href=\"Tools/Overview.html\" name=\"51\">Tools</a> ,<a href=\"MailRobot/Overview.html\" name=\"53\"> Mail robot</a> ,<a href=\"Status.html#57\" name=\"52\">\n",
      "Library</a> )\n",
      "<dt><a href=\"Technical.html\" name=\"47\">Technical</a>\n",
      "<dd> Details of protocols, formats,\n",
      "program internals etc\n",
      "<dt><a href=\"Bibliography.html\" name=\"40\">Bibliography</a>\n",
      "<dd> Paper documentation\n",
      "on  W3 and references.\n",
      "<dt><a href=\"People.html\" name=\"14\">People</a>\n",
      "<dd> A list of some people involved\n",
      "in the project.\n",
      "<dt><a href=\"History.html\" name=\"15\">History</a>\n",
      "<dd> A summary of the history\n",
      "of the project.\n",
      "<dt><a href=\"Helping.html\" name=\"37\">How can I help</a> ?\n",
      "<dd> If you would like\n",
      "to support the web..\n",
      "<dt><a href=\"../README.html\" name=\"48\">Getting code</a>\n",
      "<dd> Getting the code by<a href=\"LineMode/Defaults/Distribution.html\" name=\"49\">\n",
      "anonymous FTP</a> , etc.\n",
      "</dd></dt></dd></dt></dd></dt></dd></dt></dd></dt></dd></dt></dd>, <dd> Details of protocols, formats,\n",
      "program internals etc\n",
      "<dt><a href=\"Bibliography.html\" name=\"40\">Bibliography</a>\n",
      "<dd> Paper documentation\n",
      "on  W3 and references.\n",
      "<dt><a href=\"People.html\" name=\"14\">People</a>\n",
      "<dd> A list of some people involved\n",
      "in the project.\n",
      "<dt><a href=\"History.html\" name=\"15\">History</a>\n",
      "<dd> A summary of the history\n",
      "of the project.\n",
      "<dt><a href=\"Helping.html\" name=\"37\">How can I help</a> ?\n",
      "<dd> If you would like\n",
      "to support the web..\n",
      "<dt><a href=\"../README.html\" name=\"48\">Getting code</a>\n",
      "<dd> Getting the code by<a href=\"LineMode/Defaults/Distribution.html\" name=\"49\">\n",
      "anonymous FTP</a> , etc.\n",
      "</dd></dt></dd></dt></dd></dt></dd></dt></dd></dt></dd>, <dd> Paper documentation\n",
      "on  W3 and references.\n",
      "<dt><a href=\"People.html\" name=\"14\">People</a>\n",
      "<dd> A list of some people involved\n",
      "in the project.\n",
      "<dt><a href=\"History.html\" name=\"15\">History</a>\n",
      "<dd> A summary of the history\n",
      "of the project.\n",
      "<dt><a href=\"Helping.html\" name=\"37\">How can I help</a> ?\n",
      "<dd> If you would like\n",
      "to support the web..\n",
      "<dt><a href=\"../README.html\" name=\"48\">Getting code</a>\n",
      "<dd> Getting the code by<a href=\"LineMode/Defaults/Distribution.html\" name=\"49\">\n",
      "anonymous FTP</a> , etc.\n",
      "</dd></dt></dd></dt></dd></dt></dd></dt></dd>, <dd> A list of some people involved\n",
      "in the project.\n",
      "<dt><a href=\"History.html\" name=\"15\">History</a>\n",
      "<dd> A summary of the history\n",
      "of the project.\n",
      "<dt><a href=\"Helping.html\" name=\"37\">How can I help</a> ?\n",
      "<dd> If you would like\n",
      "to support the web..\n",
      "<dt><a href=\"../README.html\" name=\"48\">Getting code</a>\n",
      "<dd> Getting the code by<a href=\"LineMode/Defaults/Distribution.html\" name=\"49\">\n",
      "anonymous FTP</a> , etc.\n",
      "</dd></dt></dd></dt></dd></dt></dd>, <dd> A summary of the history\n",
      "of the project.\n",
      "<dt><a href=\"Helping.html\" name=\"37\">How can I help</a> ?\n",
      "<dd> If you would like\n",
      "to support the web..\n",
      "<dt><a href=\"../README.html\" name=\"48\">Getting code</a>\n",
      "<dd> Getting the code by<a href=\"LineMode/Defaults/Distribution.html\" name=\"49\">\n",
      "anonymous FTP</a> , etc.\n",
      "</dd></dt></dd></dt></dd>, <dd> If you would like\n",
      "to support the web..\n",
      "<dt><a href=\"../README.html\" name=\"48\">Getting code</a>\n",
      "<dd> Getting the code by<a href=\"LineMode/Defaults/Distribution.html\" name=\"49\">\n",
      "anonymous FTP</a> , etc.\n",
      "</dd></dt></dd>, <dd> Getting the code by<a href=\"LineMode/Defaults/Distribution.html\" name=\"49\">\n",
      "anonymous FTP</a> , etc.\n",
      "</dd>]\n"
     ]
    },
    {
     "output_type": "execute_result",
     "data": {
      "text/plain": [
       "9"
      ]
     },
     "metadata": {},
     "execution_count": 28
    }
   ],
   "metadata": {}
  },
  {
   "cell_type": "code",
   "execution_count": 30,
   "source": [
    "#for i in li3:\n",
    "   # print(i.get_text())\n",
    "print(li3[len(li3)-1].get_text())"
   ],
   "outputs": [
    {
     "output_type": "stream",
     "name": "stdout",
     "text": [
      " Pointers to the\n",
      "world's online information, subjects\n",
      ", W3 servers, etc.\n",
      "Help\n",
      " on the browser you are using\n",
      "Software Products\n",
      " A list of W3 project\n",
      "components and their current state.\n",
      "(e.g. Line Mode ,X11 Viola ,  NeXTStep\n",
      ", Servers , Tools , Mail robot ,\n",
      "Library )\n",
      "Technical\n",
      " Details of protocols, formats,\n",
      "program internals etc\n",
      "Bibliography\n",
      " Paper documentation\n",
      "on  W3 and references.\n",
      "People\n",
      " A list of some people involved\n",
      "in the project.\n",
      "History\n",
      " A summary of the history\n",
      "of the project.\n",
      "How can I help ?\n",
      " If you would like\n",
      "to support the web..\n",
      "Getting code\n",
      " Getting the code by\n",
      "anonymous FTP , etc.\n",
      "\n",
      " on the browser you are using\n",
      "Software Products\n",
      " A list of W3 project\n",
      "components and their current state.\n",
      "(e.g. Line Mode ,X11 Viola ,  NeXTStep\n",
      ", Servers , Tools , Mail robot ,\n",
      "Library )\n",
      "Technical\n",
      " Details of protocols, formats,\n",
      "program internals etc\n",
      "Bibliography\n",
      " Paper documentation\n",
      "on  W3 and references.\n",
      "People\n",
      " A list of some people involved\n",
      "in the project.\n",
      "History\n",
      " A summary of the history\n",
      "of the project.\n",
      "How can I help ?\n",
      " If you would like\n",
      "to support the web..\n",
      "Getting code\n",
      " Getting the code by\n",
      "anonymous FTP , etc.\n",
      "\n",
      " A list of W3 project\n",
      "components and their current state.\n",
      "(e.g. Line Mode ,X11 Viola ,  NeXTStep\n",
      ", Servers , Tools , Mail robot ,\n",
      "Library )\n",
      "Technical\n",
      " Details of protocols, formats,\n",
      "program internals etc\n",
      "Bibliography\n",
      " Paper documentation\n",
      "on  W3 and references.\n",
      "People\n",
      " A list of some people involved\n",
      "in the project.\n",
      "History\n",
      " A summary of the history\n",
      "of the project.\n",
      "How can I help ?\n",
      " If you would like\n",
      "to support the web..\n",
      "Getting code\n",
      " Getting the code by\n",
      "anonymous FTP , etc.\n",
      "\n",
      " Details of protocols, formats,\n",
      "program internals etc\n",
      "Bibliography\n",
      " Paper documentation\n",
      "on  W3 and references.\n",
      "People\n",
      " A list of some people involved\n",
      "in the project.\n",
      "History\n",
      " A summary of the history\n",
      "of the project.\n",
      "How can I help ?\n",
      " If you would like\n",
      "to support the web..\n",
      "Getting code\n",
      " Getting the code by\n",
      "anonymous FTP , etc.\n",
      "\n",
      " Paper documentation\n",
      "on  W3 and references.\n",
      "People\n",
      " A list of some people involved\n",
      "in the project.\n",
      "History\n",
      " A summary of the history\n",
      "of the project.\n",
      "How can I help ?\n",
      " If you would like\n",
      "to support the web..\n",
      "Getting code\n",
      " Getting the code by\n",
      "anonymous FTP , etc.\n",
      "\n",
      " A list of some people involved\n",
      "in the project.\n",
      "History\n",
      " A summary of the history\n",
      "of the project.\n",
      "How can I help ?\n",
      " If you would like\n",
      "to support the web..\n",
      "Getting code\n",
      " Getting the code by\n",
      "anonymous FTP , etc.\n",
      "\n",
      " A summary of the history\n",
      "of the project.\n",
      "How can I help ?\n",
      " If you would like\n",
      "to support the web..\n",
      "Getting code\n",
      " Getting the code by\n",
      "anonymous FTP , etc.\n",
      "\n",
      " If you would like\n",
      "to support the web..\n",
      "Getting code\n",
      " Getting the code by\n",
      "anonymous FTP , etc.\n",
      "\n",
      " Getting the code by\n",
      "anonymous FTP , etc.\n",
      "\n",
      " Getting the code by\n",
      "anonymous FTP , etc.\n",
      "\n"
     ]
    }
   ],
   "metadata": {}
  },
  {
   "cell_type": "code",
   "execution_count": null,
   "source": [],
   "outputs": [],
   "metadata": {}
  }
 ],
 "metadata": {
  "orig_nbformat": 4,
  "language_info": {
   "name": "python",
   "version": "3.7.3",
   "mimetype": "text/x-python",
   "codemirror_mode": {
    "name": "ipython",
    "version": 3
   },
   "pygments_lexer": "ipython3",
   "nbconvert_exporter": "python",
   "file_extension": ".py"
  },
  "kernelspec": {
   "name": "python3",
   "display_name": "Python 3.7.3 64-bit"
  },
  "interpreter": {
   "hash": "916dbcbb3f70747c44a77c7bcd40155683ae19c65e1c03b4aa3499c5328201f1"
  }
 },
 "nbformat": 4,
 "nbformat_minor": 2
}